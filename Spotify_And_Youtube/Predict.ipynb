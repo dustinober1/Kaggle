{
 "cells": [
  {
   "cell_type": "markdown",
   "id": "5784cbff",
   "metadata": {},
   "source": [
    "Here is an example of how to use scikit-learn to train a random forest regressor to predict the popularity of a song based on its features."
   ]
  },
  {
   "cell_type": "code",
   "execution_count": 1,
   "id": "cc46f250",
   "metadata": {},
   "outputs": [
    {
     "name": "stdout",
     "output_type": "stream",
     "text": [
      "MSE: 4.231945800074944e+16\n"
     ]
    }
   ],
   "source": [
    "import pandas as pd\n",
    "from sklearn.model_selection import train_test_split\n",
    "from sklearn.ensemble import RandomForestRegressor\n",
    "from sklearn.metrics import mean_squared_error\n",
    "\n",
    "# Load the dataset\n",
    "df = pd.read_csv('Spotify_Youtube.csv')\n",
    "df = df.dropna()\n",
    "\n",
    "# Split the dataset into training and testing sets\n",
    "X_train, X_test, y_train, y_test = train_test_split(df.drop(['Track', 'Artist', 'Url_spotify', 'Album', 'Album_type', 'Uri', 'Stream', 'Url_youtube', 'Title', 'Channel', 'Views', 'Likes', 'Comments', 'Description', 'Licensed', 'official_video'], axis=1), df['Stream'], test_size=0.2, random_state=42)\n",
    "\n",
    "# Train a random forest regressor\n",
    "rf = RandomForestRegressor(n_estimators=100, random_state=1)\n",
    "rf.fit(X_train, y_train)\n",
    "\n",
    "# Evaluate the model on the testing set\n",
    "y_pred = rf.predict(X_test)\n",
    "mse = mean_squared_error(y_test, y_pred)\n",
    "print('MSE:', mse)"
   ]
  },
  {
   "cell_type": "markdown",
   "id": "72c323aa",
   "metadata": {},
   "source": [
    "In this example, we use the RandomForestRegressor class from scikit-learn to train a random forest model with 100 trees. We then evaluate the model on the testing set using mean squared error as the performance metric.\n",
    "\n",
    "Note that we drop the non-numeric columns from the dataset, as they cannot be used as input features to the model. We also use the 'Stream' column as the target variable, which we are trying to predict."
   ]
  },
  {
   "cell_type": "code",
   "execution_count": 2,
   "id": "b4c48cf2",
   "metadata": {},
   "outputs": [
    {
     "data": {
      "text/plain": [
       "['predict_music.sav']"
      ]
     },
     "execution_count": 2,
     "metadata": {},
     "output_type": "execute_result"
    }
   ],
   "source": [
    "import joblib\n",
    "\n",
    "# Save the model to disk\n",
    "filename = 'predict_music.sav'\n",
    "joblib.dump(rf, filename)\n"
   ]
  }
 ],
 "metadata": {
  "kernelspec": {
   "display_name": "Python 3 (ipykernel)",
   "language": "python",
   "name": "python3"
  },
  "language_info": {
   "codemirror_mode": {
    "name": "ipython",
    "version": 3
   },
   "file_extension": ".py",
   "mimetype": "text/x-python",
   "name": "python",
   "nbconvert_exporter": "python",
   "pygments_lexer": "ipython3",
   "version": "3.9.2"
  }
 },
 "nbformat": 4,
 "nbformat_minor": 5
}
